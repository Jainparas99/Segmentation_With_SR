{
 "cells": [
  {
   "cell_type": "code",
   "execution_count": null,
   "metadata": {},
   "outputs": [],
   "source": [
    "from src.sam_utils import (\n",
    "    load_sam_model,\n",
    "    run_sam_inference,\n",
    "    load_mask,\n",
    "    visualize_prediction_vs_gt,\n",
    "    visualize_segmentation,\n",
    "    dice_coefficient,\n",
    "    iou_score,\n",
    ")"
   ]
  },
  {
   "cell_type": "code",
   "execution_count": null,
   "metadata": {},
   "outputs": [],
   "source": [
    "\n",
    "model, processor, device = load_sam_model(\"facebook/sam-vit-base\")\n",
    "\n",
    "image_path = \"data/iNaturalist_blurry_images/Artemisiospiza_nevadensis_2247.jpg\"\n",
    "image, pred_masks = run_sam_inference(image_path, model, processor, device)\n",
    "\n",
    "visualize_segmentation(image, pred_masks, \"Segmentation Mask (Original SAM)\")"
   ]
  },
  {
   "cell_type": "code",
   "execution_count": null,
   "metadata": {},
   "outputs": [],
   "source": [
    "mask_path = \"data/ground_truth_masks/Artemisiospiza_nevadensis_2247_mask.png\"\n",
    "true_mask = load_mask(mask_path)\n",
    "\n",
    "# Visualize\n",
    "visualize_prediction_vs_gt(image, pred_masks[0], true_mask, \"Segmentation (SAM)\")\n",
    "\n",
    "# Metric\n",
    "dice = dice_coefficient(pred_masks[0], true_mask)\n",
    "iou = iou_score(pred_masks[0], true_mask)\n",
    "print(f\"Dice Coefficient: {dice:.4f}\")\n",
    "print(f\"IoU Score: {iou:.4f}\")"
   ]
  }
 ],
 "metadata": {
  "language_info": {
   "name": "python"
  }
 },
 "nbformat": 4,
 "nbformat_minor": 2
}
