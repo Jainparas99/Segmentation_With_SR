{
 "cells": [
  {
   "cell_type": "code",
   "execution_count": null,
   "metadata": {},
   "outputs": [],
   "source": [
    "from src.sr_utils import SuperResWrapper\n",
    "from src.sam_utils import (\n",
    "    load_sam_model,\n",
    "    run_sam_inference,\n",
    "    load_mask,\n",
    "    visualize_prediction_vs_gt,\n",
    "    dice_coefficient,\n",
    "    iou_score,\n",
    ")\n"
   ]
  },
  {
   "cell_type": "code",
   "execution_count": null,
   "metadata": {},
   "outputs": [],
   "source": [
    "\n",
    "# Initialize SR model\n",
    "sr_model_path = \"models/EDSR_x4.pb\"\n",
    "sr_wrapper = SuperResWrapper(sr_model_path, sr_model_name=\"edsr\", scale=4)\n",
    "\n",
    "# Load SAM\n",
    "model, processor, device = load_sam_model(\"nielsr/slimsam-77-uniform\")\n",
    "\n",
    "# Load image and enhance\n",
    "image_path = \"data/iNaturalist_blurry_images/sample_2247.jpg\"\n",
    "mask_path = \"data/ground_truth_masks/sample_2247_mask.png\"\n",
    "\n",
    "original_image = Image.open(image_path).convert(\"RGB\")\n",
    "enhanced_image = sr_wrapper.enhance(original_image)\n",
    "\n",
    "# Inference on enhanced image\n",
    "_, masks = run_sam_inference(enhanced_image, model, processor, device)\n",
    "true_mask = load_mask(mask_path)\n",
    "\n",
    "# Visualization and Evaluation\n",
    "visualize_prediction_vs_gt(enhanced_image, masks[0], true_mask, \"SAM Output on SR Image\")\n",
    "dice = dice_coefficient(masks[0], true_mask)\n",
    "iou = iou_score(masks[0], true_mask)\n",
    "\n",
    "print(f\"Dice Coefficient (SR image): {dice:.4f}\")\n",
    "print(f\"IoU Score (SR image): {iou:.4f}\")"
   ]
  }
 ],
 "metadata": {
  "kernelspec": {
   "display_name": "pj2196",
   "language": "python",
   "name": "python3"
  },
  "language_info": {
   "name": "python",
   "version": "3.12.2"
  }
 },
 "nbformat": 4,
 "nbformat_minor": 2
}
