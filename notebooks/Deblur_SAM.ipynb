{
 "cells": [
  {
   "cell_type": "code",
   "execution_count": null,
   "metadata": {},
   "outputs": [],
   "source": [
    "from src.deblur_utils import DeblurWrapper\n",
    "from src.sam_utils import (\n",
    "    load_sam_model,\n",
    "    run_sam_inference,\n",
    "    load_mask,\n",
    "    visualize_prediction_vs_gt,\n",
    "    dice_coefficient,\n",
    "    iou_score,\n",
    ")\n"
   ]
  },
  {
   "cell_type": "code",
   "execution_count": null,
   "metadata": {},
   "outputs": [],
   "source": [
    "\n",
    "# Initialize deblur model\n",
    "deblur_model = DeblurWrapper(kernel_size=5, amount=1.5)\n",
    "\n",
    "# Load image and mask\n",
    "image_path = \"data/iNaturalist_blurry_images/sample_2247.jpg\"\n",
    "mask_path = \"data/ground_truth_masks/sample_2247_mask.png\"\n",
    "\n",
    "original_image = Image.open(image_path).convert(\"RGB\")\n",
    "deblurred_image = deblur_model.deblur(original_image)\n",
    "\n",
    "# Load SAM model\n",
    "model, processor, device = load_sam_model(\"nielsr/slimsam-77-uniform\")\n",
    "\n",
    "# Run inference\n",
    "_, masks = run_sam_inference(deblurred_image, model, processor, device)\n",
    "true_mask = load_mask(mask_path)\n",
    "\n",
    "# Visualize and evaluate\n",
    "visualize_prediction_vs_gt(deblurred_image, masks[0], true_mask, \"SAM Output on Deblurred Image\")\n",
    "dice = dice_coefficient(masks[0], true_mask)\n",
    "iou = iou_score(masks[0], true_mask)\n",
    "\n",
    "print(f\"Dice Coefficient (Deblurred): {dice:.4f}\")\n",
    "print(f\"IoU Score (Deblurred): {iou:.4f}\")"
   ]
  }
 ],
 "metadata": {
  "kernelspec": {
   "display_name": "pj2196",
   "language": "python",
   "name": "python3"
  },
  "language_info": {
   "name": "python",
   "version": "3.12.2"
  }
 },
 "nbformat": 4,
 "nbformat_minor": 2
}
