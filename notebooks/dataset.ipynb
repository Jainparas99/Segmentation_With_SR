{
 "cells": [
  {
   "cell_type": "code",
   "execution_count": null,
   "metadata": {},
   "outputs": [],
   "source": [
    "from PIL import Image\n",
    "import matplotlib.pyplot as plt\n",
    "import random, os\n",
    "\n",
    "from src.data_loader import (\n",
    "    download_and_subset_dataset,\n",
    "    save_images_from_subset,\n",
    "    blur_image_folder,\n",
    ")"
   ]
  },
  {
   "cell_type": "code",
   "execution_count": null,
   "metadata": {},
   "outputs": [],
   "source": [
    "# Load and save subset\n",
    "subset = download_and_subset_dataset()\n",
    "save_images_from_subset(subset)\n",
    "\n",
    "# Apply blur to saved images\n",
    "blur_image_folder(\"iNaturalist_subset_images\", \"iNaturalist_blurry_images\")\n",
    "\n",
    "img_path = os.path.join(\"iNaturalist_blurry_images\", random.choice(os.listdir(\"iNaturalist_blurry_images\")))\n",
    "img = Image.open(img_path)\n",
    "plt.imshow(img)\n",
    "plt.axis(\"off\")\n",
    "plt.title(\"Blurred Image\")\n",
    "plt.show()"
   ]
  }
 ],
 "metadata": {
  "language_info": {
   "name": "python"
  }
 },
 "nbformat": 4,
 "nbformat_minor": 2
}
